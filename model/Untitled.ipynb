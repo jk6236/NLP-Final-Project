{
 "cells": [
  {
   "cell_type": "code",
   "execution_count": 2,
   "id": "2ef851a4",
   "metadata": {},
   "outputs": [
    {
     "name": "stderr",
     "output_type": "stream",
     "text": [
      "/Users/jyopari/NLP-Final-Project/.env/lib/python3.7/site-packages/tqdm/auto.py:22: TqdmWarning: IProgress not found. Please update jupyter and ipywidgets. See https://ipywidgets.readthedocs.io/en/stable/user_install.html\n",
      "  from .autonotebook import tqdm as notebook_tqdm\n"
     ]
    }
   ],
   "source": [
    "import glob\n",
    "import math\n",
    "from tqdm import tqdm\n",
    "\n",
    "from model import Model\n",
    "\n",
    "import nltk\n",
    "from nltk import word_tokenize\n",
    "from nltk.stem import PorterStemmer\n",
    "from nltk.corpus import stopwords as sw"
   ]
  },
  {
   "cell_type": "code",
   "execution_count": 18,
   "id": "5a3a3c6d",
   "metadata": {},
   "outputs": [
    {
     "name": "stderr",
     "output_type": "stream",
     "text": [
      "100%|███████████████████████████████████████████████████████████████| 20/20 [00:00<00:00, 171.83it/s]"
     ]
    },
    {
     "name": "stdout",
     "output_type": "stream",
     "text": [
      "../Corpus/Pharmacy/Pharmacy.txt -inf\n",
      "\n",
      "../Corpus/PrivateSchool/PrivateSchool.txt -inf\n",
      "\n",
      "../Corpus/Oxygen/Oxygen.txt -inf\n",
      "\n",
      "../Corpus/JacksonvilleFL/JacksonvilleFL.txt -inf\n",
      "\n",
      "../Corpus/PacketSwitching/PacketSwitching.txt -inf\n",
      "\n",
      "../Corpus/SteamEngine/SteamEngine.txt -inf\n",
      "\n",
      "../Corpus/BlackDeath/BlackDeath.txt -inf\n",
      "\n",
      "../Corpus/Geology/Geology.txt -inf\n",
      "\n",
      "../Corpus/PrimeNumber/PrimeNumber.txt -inf\n",
      "\n",
      "../Corpus/ImmuneSystem/ImmuneSystem.txt -inf\n",
      "\n",
      "../Corpus/SCali/SCali.txt -inf\n",
      "\n",
      "../Corpus/Construction/Construction.txt -inf\n",
      "\n",
      "../Corpus/CivilDisobedience/CivilDisobedience.txt -inf\n",
      "\n",
      "../Corpus/Imperialism/Imperialism.txt 0.4082482904638631\n",
      "../Corpus/Imperialism/Imperialism.txt\n",
      "../Corpus/Force/Force.txt -inf\n",
      "../Corpus/Imperialism/Imperialism.txt\n",
      "../Corpus/Islamism/Islamism.txt -inf\n",
      "../Corpus/Imperialism/Imperialism.txt\n",
      "../Corpus/AmazonRainforest/AmazonRainforest.txt -inf\n",
      "../Corpus/Imperialism/Imperialism.txt\n",
      "../Corpus/YuanDynasty/YuanDynasty.txt -inf\n",
      "../Corpus/Imperialism/Imperialism.txt\n",
      "../Corpus/Harvard/Harvard.txt 0.4082482904638631\n",
      "../Corpus/Imperialism/Imperialism.txt\n",
      "../Corpus/Warsaw/Warsaw.txt -inf\n",
      "../Corpus/Imperialism/Imperialism.txt\n"
     ]
    },
    {
     "name": "stderr",
     "output_type": "stream",
     "text": [
      "\n"
     ]
    }
   ],
   "source": [
    "ps = PorterStemmer()\n",
    "\n",
    "file_names = glob.glob('../Corpus/**/*.txt', recursive=True)\n",
    "corpus_file_names = []\n",
    "\n",
    "stopwords = sw.words('english')\n",
    "\n",
    "for file_name in file_names:\n",
    "    if file_name[-6:] != 'Qs.txt' and file_name[-6:] != 'As.txt':\n",
    "        corpus_file_names.append(file_name)\n",
    "\n",
    "#print(len(corpus_file_names))\n",
    "\n",
    "tf_documents = dict()\n",
    "idf_documents = dict()\n",
    "num_docs = len(corpus_file_names)\n",
    "\n",
    "def update_tf(tf_docs, token, doc_name):\n",
    "    if doc_name not in tf_docs:\n",
    "        tf_docs[doc_name] = {token: 1}\n",
    "    else:\n",
    "        if token not in tf_docs[doc_name]:\n",
    "            tf_docs[doc_name][token] = 1\n",
    "        else:\n",
    "            tf_docs[doc_name][token] += 1   \n",
    "\n",
    "\n",
    "def update_idf(idf_docs, token):\n",
    "    if token not in idf_docs:\n",
    "        idf_docs[token] = 1\n",
    "    else:\n",
    "        idf_docs[token] += 1\n",
    "\n",
    "def calculate_tfidf(tf, idf, num_docs):\n",
    "    return tf*math.log(float(num_docs)/float(idf))\n",
    "\n",
    "\n",
    "for file_name in tqdm(corpus_file_names):\n",
    "    with open(file_name, 'r') as file:\n",
    "        contents = word_tokenize(file.read())\n",
    "        for word in contents:\n",
    "            if word not in stopwords:\n",
    "                update_tf(tf_documents, word, file_name)\n",
    "                if tf_documents[file_name][word] == 1:\n",
    "                    update_idf(idf_documents, word)\n",
    "            \n",
    "\n",
    "question = 'Where can tourists go when they visit Cambridge?'\n",
    "question_tokenized = word_tokenize(question)\n",
    "\n",
    "best_score = float('-inf')\n",
    "best_file = ''\n",
    "\n",
    "for file_name in corpus_file_names:\n",
    "    mag_q = 0\n",
    "    mag_doc = 0\n",
    "    numerator = 0\n",
    "    for word in question_tokenized:\n",
    "        if word not in stopwords:\n",
    "            mag_q += 1\n",
    "            if word in idf_documents:\n",
    "                if word in tf_documents[file_name]:\n",
    "                    tf_val = tf_documents[file_name][word]\n",
    "                else:\n",
    "                    tf_val = 0\n",
    "                idf_val = idf_documents[word]\n",
    "                res = calculate_tfidf(tf_val, idf_val, num_docs)\n",
    "                mag_doc += (res**2)\n",
    "                numerator += res\n",
    "\n",
    "    if (math.sqrt(float(mag_q)) * math.sqrt(float(mag_doc))) == 0:\n",
    "        cosine = float('-inf')\n",
    "    else:\n",
    "        cosine = float(numerator) / (math.sqrt(float(mag_q)) * math.sqrt(float(mag_doc)))\n",
    "    print(file_name, cosine)\n",
    "    if cosine > best_score:\n",
    "        best_file = file_name\n",
    "        best_score = cosine \n",
    "\n",
    "    print(best_file)"
   ]
  },
  {
   "cell_type": "code",
   "execution_count": 4,
   "id": "bd816a69",
   "metadata": {},
   "outputs": [
    {
     "data": {
      "text/plain": [
       "{'A': 3,\n",
       " 'prime': 15,\n",
       " 'number': 12,\n",
       " '(': 4,\n",
       " ')': 4,\n",
       " 'natural': 2,\n",
       " 'greater': 4,\n",
       " '1': 11,\n",
       " 'positive': 2,\n",
       " 'divisors': 2,\n",
       " '.': 20,\n",
       " 'called': 2,\n",
       " 'composite': 3,\n",
       " 'For': 1,\n",
       " 'example': 1,\n",
       " ',': 28,\n",
       " '5': 2,\n",
       " 'integer': 4,\n",
       " 'factors': 2,\n",
       " 'whereas': 1,\n",
       " '6': 2,\n",
       " '2': 4,\n",
       " '3': 5,\n",
       " 'addition': 1,\n",
       " 'The': 4,\n",
       " 'fundamental': 1,\n",
       " 'theorem': 3,\n",
       " 'arithmetic': 1,\n",
       " 'establishes': 1,\n",
       " 'central': 1,\n",
       " 'role': 1,\n",
       " 'primes': 7,\n",
       " 'theory': 2,\n",
       " ':': 1,\n",
       " 'expressed': 2,\n",
       " 'product': 1,\n",
       " 'unique': 1,\n",
       " 'ordering': 1,\n",
       " 'uniqueness': 1,\n",
       " 'requires': 1,\n",
       " 'excluding': 1,\n",
       " 'one': 1,\n",
       " 'include': 2,\n",
       " 'arbitrarily': 1,\n",
       " 'many': 3,\n",
       " 'instances': 1,\n",
       " 'factorization': 1,\n",
       " 'e.g.': 1,\n",
       " '·': 3,\n",
       " 'etc': 1,\n",
       " 'valid': 1,\n",
       " 'factorizations': 1,\n",
       " 'property': 1,\n",
       " 'primality': 5,\n",
       " 'simple': 2,\n",
       " 'slow': 2,\n",
       " 'method': 1,\n",
       " 'verifying': 1,\n",
       " 'given': 2,\n",
       " 'n': 3,\n",
       " 'known': 3,\n",
       " 'trial': 2,\n",
       " 'division': 2,\n",
       " 'It': 1,\n",
       " 'consists': 1,\n",
       " 'testing': 1,\n",
       " 'whether': 1,\n",
       " 'multiple': 1,\n",
       " 'Algorithms': 1,\n",
       " 'much': 1,\n",
       " 'efficient': 1,\n",
       " 'devised': 1,\n",
       " 'test': 3,\n",
       " 'large': 3,\n",
       " 'numbers': 9,\n",
       " 'These': 1,\n",
       " 'Miller–Rabin': 1,\n",
       " 'fast': 2,\n",
       " 'small': 1,\n",
       " 'probability': 2,\n",
       " 'error': 1,\n",
       " 'AKS': 1,\n",
       " 'always': 1,\n",
       " 'produces': 1,\n",
       " 'correct': 1,\n",
       " 'answer': 1,\n",
       " 'polynomial': 1,\n",
       " 'time': 1,\n",
       " 'practical': 1,\n",
       " 'Particularly': 1,\n",
       " 'methods': 1,\n",
       " 'available': 1,\n",
       " 'special': 1,\n",
       " 'forms': 1,\n",
       " 'Mersenne': 1,\n",
       " 'As': 1,\n",
       " 'January': 1,\n",
       " '2016': 1,\n",
       " '[': 1,\n",
       " 'update': 1,\n",
       " ']': 1,\n",
       " 'largest': 1,\n",
       " '22,338,618': 1,\n",
       " 'decimal': 1,\n",
       " 'digits': 2,\n",
       " 'There': 2,\n",
       " 'infinitely': 2,\n",
       " 'demonstrated': 1,\n",
       " 'Euclid': 1,\n",
       " 'around': 1,\n",
       " '300': 1,\n",
       " 'BC': 1,\n",
       " 'formula': 1,\n",
       " 'separates': 1,\n",
       " 'However': 1,\n",
       " 'distribution': 1,\n",
       " 'say': 1,\n",
       " 'statistical': 1,\n",
       " 'behaviour': 1,\n",
       " 'modelled': 1,\n",
       " 'first': 1,\n",
       " 'result': 1,\n",
       " 'direction': 1,\n",
       " 'proven': 1,\n",
       " 'end': 1,\n",
       " '19th': 1,\n",
       " 'century': 1,\n",
       " 'says': 1,\n",
       " 'randomly': 1,\n",
       " 'chosen': 1,\n",
       " 'inversely': 1,\n",
       " 'proportional': 1,\n",
       " 'logarithm': 1,\n",
       " 'n.': 1,\n",
       " 'Many': 1,\n",
       " 'questions': 2,\n",
       " 'regarding': 1,\n",
       " 'remain': 1,\n",
       " 'open': 1,\n",
       " 'Goldbach': 1,\n",
       " \"'s\": 1,\n",
       " 'conjecture': 2,\n",
       " 'every': 1,\n",
       " 'even': 1,\n",
       " 'sum': 1,\n",
       " 'two': 1,\n",
       " 'twin': 1,\n",
       " 'pairs': 1,\n",
       " 'whose': 1,\n",
       " 'difference': 1,\n",
       " 'Such': 1,\n",
       " 'spurred': 1,\n",
       " 'development': 1,\n",
       " 'various': 2,\n",
       " 'branches': 1,\n",
       " 'focusing': 1,\n",
       " 'analytic': 1,\n",
       " 'algebraic': 1,\n",
       " 'aspects': 1,\n",
       " 'Primes': 1,\n",
       " 'used': 1,\n",
       " 'several': 1,\n",
       " 'routines': 1,\n",
       " 'information': 1,\n",
       " 'technology': 1,\n",
       " 'public-key': 1,\n",
       " 'cryptography': 1,\n",
       " 'makes': 1,\n",
       " 'use': 1,\n",
       " 'properties': 1,\n",
       " 'difficulty': 1,\n",
       " 'factoring': 1,\n",
       " 'Prime': 1,\n",
       " 'give': 1,\n",
       " 'rise': 1,\n",
       " 'generalizations': 1,\n",
       " 'mathematical': 1,\n",
       " 'domains': 1,\n",
       " 'mainly': 1,\n",
       " 'algebra': 1,\n",
       " 'elements': 1,\n",
       " 'ideals': 1}"
      ]
     },
     "execution_count": 4,
     "metadata": {},
     "output_type": "execute_result"
    }
   ],
   "source": [
    "tf_documents['../Corpus/PrimeNumber/PrimeNumber.txt']"
   ]
  },
  {
   "cell_type": "code",
   "execution_count": 6,
   "id": "fa753e55",
   "metadata": {},
   "outputs": [
    {
     "data": {
      "text/plain": [
       "False"
      ]
     },
     "execution_count": 6,
     "metadata": {},
     "output_type": "execute_result"
    }
   ],
   "source": [
    "'prime' in stopwords"
   ]
  },
  {
   "cell_type": "code",
   "execution_count": 7,
   "id": "951e4c6c",
   "metadata": {},
   "outputs": [
    {
     "data": {
      "text/plain": [
       "True"
      ]
     },
     "execution_count": 7,
     "metadata": {},
     "output_type": "execute_result"
    }
   ],
   "source": [
    "'prime' in idf_documents"
   ]
  },
  {
   "cell_type": "code",
   "execution_count": 8,
   "id": "6e56af2f",
   "metadata": {},
   "outputs": [
    {
     "data": {
      "text/plain": [
       "1"
      ]
     },
     "execution_count": 8,
     "metadata": {},
     "output_type": "execute_result"
    }
   ],
   "source": [
    "idf_documents['prime']"
   ]
  },
  {
   "cell_type": "code",
   "execution_count": 9,
   "id": "495c0d29",
   "metadata": {},
   "outputs": [],
   "source": [
    "res = calculate_tfidf(15, 1, 20)"
   ]
  },
  {
   "cell_type": "code",
   "execution_count": 10,
   "id": "eab3c25d",
   "metadata": {},
   "outputs": [
    {
     "data": {
      "text/plain": [
       "44.93598410330986"
      ]
     },
     "execution_count": 10,
     "metadata": {},
     "output_type": "execute_result"
    }
   ],
   "source": [
    "res"
   ]
  },
  {
   "cell_type": "code",
   "execution_count": null,
   "id": "bd1bcefa",
   "metadata": {},
   "outputs": [],
   "source": []
  }
 ],
 "metadata": {
  "kernelspec": {
   "display_name": "Python 3 (ipykernel)",
   "language": "python",
   "name": "python3"
  },
  "language_info": {
   "codemirror_mode": {
    "name": "ipython",
    "version": 3
   },
   "file_extension": ".py",
   "mimetype": "text/x-python",
   "name": "python",
   "nbconvert_exporter": "python",
   "pygments_lexer": "ipython3",
   "version": "3.7.2rc1"
  }
 },
 "nbformat": 4,
 "nbformat_minor": 5
}
